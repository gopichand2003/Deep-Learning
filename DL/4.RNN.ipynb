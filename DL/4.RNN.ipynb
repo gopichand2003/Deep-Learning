{
 "cells": [
  {
   "cell_type": "code",
   "execution_count": 2,
   "id": "17812364",
   "metadata": {
    "scrolled": true
   },
   "outputs": [
    {
     "name": "stdout",
     "output_type": "stream",
     "text": [
      "text: b\"This was an absolutely terrible movie. Don't be lured in by Christopher Walken or Michael Ironside. Both are great actors, but this must simply be their worst role in history. Even their great acting could not redeem this movie's ridiculous storyline. This movie is an early nineties US propaganda piece. The most pathetic scenes were those when the Columbian rebels were making their cases for revolutions. Maria Conchita Alonso appeared phony, and her pseudo-love affair with Walken was nothing but a pathetic emotional plug in a movie that was devoid of any real meaning. I am disappointed that there are movies like this, ruining actor's like Christopher Walken's good name. I could barely sit through it.\"\n",
      "label: 0\n",
      "1/1 [==============================] - 1s 1s/step\n",
      "[-0.00625011]\n",
      "$$$$$$$$$$$$$$$\n",
      "Epoch 1/2\n",
      "391/391 [==============================] - 607s 2s/step - loss: 0.6507 - accuracy: 0.5566 - val_loss: 0.5069 - val_accuracy: 0.7583\n",
      "Epoch 2/2\n",
      "391/391 [==============================] - 581s 1s/step - loss: 0.4248 - accuracy: 0.7996 - val_loss: 0.3898 - val_accuracy: 0.8161\n",
      "391/391 [==============================] - 78s 200ms/step - loss: 0.3745 - accuracy: 0.8234\n",
      "Test Los: 0.37446391582489014\n",
      "Test Accuracy: 0.8234400153160095\n"
     ]
    }
   ],
   "source": [
    "import numpy as np\n",
    "import tensorflow as tf\n",
    "import tensorflow_datasets as tfds\n",
    "dataset,info = tfds.load('imdb_reviews',with_info=True,as_supervised=True)\n",
    "train_dataset,test_dataset = dataset['train'],dataset['test']\n",
    "train_dataset.element_spec\n",
    "for example,label in train_dataset.take(1):\n",
    "    print('text:',example.numpy())\n",
    "    print('label:',label.numpy())\n",
    "    BUFFER_SIZE=10000\n",
    "    BATCH_SIZE=64\n",
    "    train_dataset=train_dataset.shuffle(BUFFER_SIZE).batch(BATCH_SIZE).prefetch(tf.data.AUTOTUNE)\n",
    "    test_dataset=test_dataset.batch(BATCH_SIZE).prefetch(tf.data.AUTOTUNE)\n",
    "    VOCAB_SIZE=1000\n",
    "    encoder=tf.keras.layers.TextVectorization(max_tokens=VOCAB_SIZE)\n",
    "    encoder.adapt(train_dataset.map(lambda text,label:text))\n",
    "    model=tf.keras.Sequential([encoder,tf.keras.layers.Embedding(input_dim=len(encoder.get_vocabulary()),output_dim=64,mask_zero=True),\n",
    "                              tf.keras.layers.Bidirectional(tf.keras.layers.LSTM(64)),\n",
    "                              tf.keras.layers.Dense(64,activation='relu'),\n",
    "                              tf.keras.layers.Dense(1)\n",
    "                              ])\n",
    "    sample_text=('The movie was cool. The animation and the graphics'\n",
    "                'were out of this world. I would recommend this movie')\n",
    "    predictions = model.predict(np.array([sample_text]))\n",
    "    print(predictions[0])\n",
    "    print(\"$$$$$$$$$$$$$$$\")\n",
    "    model.compile(loss=tf.keras.losses.BinaryCrossentropy(from_logits=True),\n",
    "                 optimizer=tf.keras.optimizers.Adam(1e-4),\n",
    "                 metrics=['accuracy'])\n",
    "    history = model.fit(train_dataset, epochs=2,\n",
    "                       validation_data=test_dataset,\n",
    "                       validation_steps=30)\n",
    "    test_loss,test_acc=model.evaluate(test_dataset)\n",
    "    print('Test Los:',test_loss)\n",
    "    print('Test Accuracy:',test_acc)"
   ]
  },
  {
   "cell_type": "code",
   "execution_count": null,
   "id": "d31464a7",
   "metadata": {},
   "outputs": [],
   "source": []
  }
 ],
 "metadata": {
  "kernelspec": {
   "display_name": "Python 3 (ipykernel)",
   "language": "python",
   "name": "python3"
  },
  "language_info": {
   "codemirror_mode": {
    "name": "ipython",
    "version": 3
   },
   "file_extension": ".py",
   "mimetype": "text/x-python",
   "name": "python",
   "nbconvert_exporter": "python",
   "pygments_lexer": "ipython3",
   "version": "3.10.10"
  }
 },
 "nbformat": 4,
 "nbformat_minor": 5
}
